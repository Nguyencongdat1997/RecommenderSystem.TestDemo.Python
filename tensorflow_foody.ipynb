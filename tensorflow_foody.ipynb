{
 "cells": [
  {
   "cell_type": "code",
   "execution_count": 1,
   "metadata": {},
   "outputs": [],
   "source": [
    "import json\n",
    "import pandas as pd\n",
    "from pandas.io.json import json_normalize\n",
    "import numpy as np\n",
    "import tensorflow as tf\n",
    "from sklearn.preprocessing import LabelEncoder"
   ]
  },
  {
   "cell_type": "code",
   "execution_count": 2,
   "metadata": {},
   "outputs": [],
   "source": [
    "# reading the JSON data using json.load()\n",
    "file = 'foody_data_foody_review_data.json'\n",
    "with open(file) as train_file:\n",
    "    raw_data = json.load(train_file)"
   ]
  },
  {
   "cell_type": "code",
   "execution_count": 3,
   "metadata": {},
   "outputs": [],
   "source": [
    "ratings_list = []\n",
    "count_num_of_store = 0\n",
    "for store in raw_data:\n",
    "    count_num_of_store += 1\n",
    "    for review in store:\n",
    "        ratings_list.append([review['name'], count_num_of_store, review['rating']])        "
   ]
  },
  {
   "cell_type": "code",
   "execution_count": 4,
   "metadata": {},
   "outputs": [],
   "source": [
    "df = pd.DataFrame(ratings_list, columns = ['user', 'item', 'rate'])"
   ]
  },
  {
   "cell_type": "code",
   "execution_count": 5,
   "metadata": {},
   "outputs": [
    {
     "data": {
      "text/plain": [
       "user    0\n",
       "item    0\n",
       "rate    0\n",
       "dtype: int64"
      ]
     },
     "execution_count": 5,
     "metadata": {},
     "output_type": "execute_result"
    }
   ],
   "source": [
    "df.apply(lambda x: sum(x.isnull()),axis=0)"
   ]
  },
  {
   "cell_type": "code",
   "execution_count": 6,
   "metadata": {},
   "outputs": [
    {
     "data": {
      "text/plain": [
       "user      int64\n",
       "item      int64\n",
       "rate    float64\n",
       "dtype: object"
      ]
     },
     "execution_count": 6,
     "metadata": {},
     "output_type": "execute_result"
    }
   ],
   "source": [
    "le = LabelEncoder()\n",
    "df['user'] = le.fit_transform(df['user'])\n",
    "df['rate'] = df['rate'].astype('float64')\n",
    "df['rate'].fillna(df['rate'].mean(), inplace=True)\n",
    "df.dtypes"
   ]
  },
  {
   "cell_type": "code",
   "execution_count": 7,
   "metadata": {},
   "outputs": [
    {
     "name": "stdout",
     "output_type": "stream",
     "text": [
      "[ True False False ...  True False  True]\n"
     ]
    }
   ],
   "source": [
    "#load data\n",
    "msk = np.random.rand(len(df)) < 0.7\n",
    "print(msk)\n",
    "df_train = df[msk]\n",
    "user_indecies = [x for x in df_train.user.values]\n",
    "item_indecies = [x for x in df_train.item.values]\n",
    "rates = df_train.rate.values"
   ]
  },
  {
   "cell_type": "code",
   "execution_count": 9,
   "metadata": {},
   "outputs": [],
   "source": [
    "#variables\n",
    "feature_len = 10\n",
    "U = tf.Variable(initial_value=tf.truncated_normal([2332,feature_len]), name='users')\n",
    "P = tf.Variable(initial_value=tf.truncated_normal([feature_len,103]), name='items')\n",
    "\n",
    "result = tf.matmul(U, P)\n",
    "\n",
    "result_flatten = tf.reshape(result, [-1])\n",
    "R = tf.gather(result_flatten, user_indecies * tf.shape(result)[1] + \n",
    "              item_indecies, name='extracting_user_rate')\n",
    "\n",
    "\n",
    "#cost fucntion\n",
    "diff_op = tf.subtract(R, rates, name='trainig_diff')\n",
    "diff_op_squared = tf.abs(diff_op, name=\"squared_difference\")\n",
    "base_cost = tf.reduce_sum(diff_op_squared, name=\"sum_squared_error\")\n",
    "\n",
    "\n",
    "# regularization\n",
    "lda = tf.constant(.001, name='lambda')\n",
    "norm_sums = tf.add(tf.reduce_sum(tf.abs(U, name='user_abs'), name='user_norm'), \n",
    "   tf.reduce_sum(tf.abs(P, name='item_abs'), name='item_norm'))\n",
    "regularizer = tf.multiply(norm_sums, lda, 'regularizer')\n",
    "\n",
    "cost = tf.add(base_cost, regularizer)\n",
    "\n",
    "\n",
    "#optimizer\n",
    "lr = tf.constant(.001, name='learning_rate')\n",
    "global_step = tf.Variable(0, trainable=False)\n",
    "learning_rate = tf.train.exponential_decay(lr, global_step, 10000, 0.96, staircase=True)\n",
    "optimizer = tf.train.GradientDescentOptimizer(learning_rate)\n",
    "training_step = optimizer.minimize(cost, global_step=global_step)\n",
    "\n",
    "\n",
    "#execution\n",
    "sess = tf.Session()\n",
    "init = tf.initialize_all_variables()\n",
    "sess.run(init)\n",
    "for i in range(50000):\n",
    "    sess.run(training_step)  "
   ]
  },
  {
   "cell_type": "code",
   "execution_count": 23,
   "metadata": {},
   "outputs": [
    {
     "name": "stdout",
     "output_type": "stream",
     "text": [
      "0.15597712\n"
     ]
    }
   ],
   "source": [
    "R_test = tf.gather(result_flatten, user_indecies * tf.shape(result)[1] + item_indecies)\n",
    "diff_op_test = tf.subtract(R_test, rates)\n",
    "diff_op_abs_test = tf.abs(diff_op_test)\n",
    "\n",
    "error = tf.div(tf.reduce_sum(diff_op_abs_test), df_test.shape[0])\n",
    "\n",
    "print (sess.run(error))"
   ]
  },
  {
   "cell_type": "code",
   "execution_count": 18,
   "metadata": {},
   "outputs": [
    {
     "name": "stdout",
     "output_type": "stream",
     "text": [
      "1537.0 1.0 1.0\n",
      "rating for user 1537.0 for item 1.0 is 1.0 and our prediction is: -3.5079765\n"
     ]
    }
   ],
   "source": [
    "#testing\n",
    "u, p, r = df[['user', 'item', 'rate']].values[1]\n",
    "print(u, p, r)\n",
    "rhat = tf.gather(result_flatten ,int(u) * tf.shape(result)[1] + int(p))\n",
    "print (\"rating for user \" + str(u) + \" for item \" + str(p) + \n",
    "      \" is \" + str(r) + \" and our prediction is: \" + str(sess.run(rhat)))"
   ]
  },
  {
   "cell_type": "code",
   "execution_count": 24,
   "metadata": {},
   "outputs": [
    {
     "name": "stdout",
     "output_type": "stream",
     "text": [
      "6.56669\n"
     ]
    }
   ],
   "source": [
    "#accuracy\n",
    "df_test = df[~msk]\n",
    "user_indecies_test = [x for x in df_test.user.values]\n",
    "item_indecies_test = [x for x in df_test.item.values]\n",
    "rates_test = df_test.rate.values\n",
    "R_test = tf.gather(result_flatten, user_indecies_test * tf.shape(result)[1] + item_indecies_test, name='extracting_user_rate_test')\n",
    "diff_op_test = tf.subtract(R_test, rates_test, name='test_diff')\n",
    "diff_op_abs_test = tf.abs(diff_op_test, name=\"abs_difference_test\")\n",
    "\n",
    "error = tf.div(tf.reduce_sum(diff_op_abs_test), df_test.shape[0], name=\"average_error\")\n",
    "\n",
    "print (sess.run(error))"
   ]
  }
 ],
 "metadata": {
  "kernelspec": {
   "display_name": "Python 3",
   "language": "python",
   "name": "python3"
  },
  "language_info": {
   "codemirror_mode": {
    "name": "ipython",
    "version": 3
   },
   "file_extension": ".py",
   "mimetype": "text/x-python",
   "name": "python",
   "nbconvert_exporter": "python",
   "pygments_lexer": "ipython3",
   "version": "3.6.3"
  }
 },
 "nbformat": 4,
 "nbformat_minor": 2
}
