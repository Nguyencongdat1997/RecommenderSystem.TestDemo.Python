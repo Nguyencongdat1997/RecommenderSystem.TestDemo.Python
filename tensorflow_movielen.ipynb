{
 "cells": [
  {
   "cell_type": "code",
   "execution_count": 1,
   "metadata": {},
   "outputs": [],
   "source": [
    "import json\n",
    "import pandas as pd\n",
    "from pandas.io.json import json_normalize\n",
    "import numpy as np\n",
    "import tensorflow as tf\n",
    "from sklearn.preprocessing import LabelEncoder"
   ]
  },
  {
   "cell_type": "code",
   "execution_count": 2,
   "metadata": {},
   "outputs": [
    {
     "name": "stdout",
     "output_type": "stream",
     "text": [
      "[ True  True  True ...  True  True  True]\n"
     ]
    }
   ],
   "source": [
    "#load data\n",
    "df = pd.read_csv('u.data', sep='\\t', names=['user','item','rate', 'time'])\n",
    "msk = np.random.rand(len(df)) < 0.7\n",
    "print(msk)\n",
    "df_train = df[msk]\n",
    "user_indecies = [x-1 for x in df_train.user.values]\n",
    "item_indecies = [x-1 for x in df_train.item.values]\n",
    "rates = df_train.rate.values"
   ]
  },
  {
   "cell_type": "code",
   "execution_count": 3,
   "metadata": {},
   "outputs": [
    {
     "name": "stdout",
     "output_type": "stream",
     "text": [
      "70029\n",
      "943\n",
      "1682\n",
      "943\n",
      "1614\n"
     ]
    }
   ],
   "source": [
    "print(len(df_train))\n",
    "print(df.groupby('user')['item'].nunique().count())\n",
    "print(df.groupby('item')['user'].nunique().count())\n",
    "print(df_train.groupby('user')['item'].nunique().count())\n",
    "print(df_train.groupby('item')['user'].nunique().count())"
   ]
  },
  {
   "cell_type": "code",
   "execution_count": 4,
   "metadata": {},
   "outputs": [
    {
     "name": "stdout",
     "output_type": "stream",
     "text": [
      "WARNING:tensorflow:From /opt/conda/lib/python3.6/site-packages/tensorflow/python/util/tf_should_use.py:189: initialize_all_variables (from tensorflow.python.ops.variables) is deprecated and will be removed after 2017-03-02.\n",
      "Instructions for updating:\n",
      "Use `tf.global_variables_initializer` instead.\n"
     ]
    }
   ],
   "source": [
    "#variables\n",
    "feature_len = 10\n",
    "U = tf.Variable(initial_value=tf.truncated_normal([943,feature_len]), name='users')\n",
    "P = tf.Variable(initial_value=tf.truncated_normal([feature_len,1682]), name='items')\n",
    "\n",
    "result = tf.matmul(U, P)\n",
    "\n",
    "result_flatten = tf.reshape(result, [-1])\n",
    "R = tf.gather(result_flatten, user_indecies * tf.shape(result)[1] + \n",
    "              item_indecies, name='extracting_user_rate')\n",
    "\n",
    "\n",
    "#cost fucntion\n",
    "diff_op = tf.subtract(R, rates, name='trainig_diff')\n",
    "diff_op_squared = tf.abs(diff_op, name=\"squared_difference\")\n",
    "base_cost = tf.reduce_sum(diff_op_squared, name=\"sum_squared_error\")\n",
    "\n",
    "\n",
    "# regularization\n",
    "lda = tf.constant(.001, name='lambda')\n",
    "norm_sums = tf.add(tf.reduce_sum(tf.abs(U, name='user_abs'), name='user_norm'), \n",
    "   tf.reduce_sum(tf.abs(P, name='item_abs'), name='item_norm'))\n",
    "regularizer = tf.multiply(norm_sums, lda, 'regularizer')\n",
    "\n",
    "cost = tf.add(base_cost, regularizer)\n",
    "\n",
    "\n",
    "#optimizer\n",
    "lr = tf.constant(.001, name='learning_rate')\n",
    "global_step = tf.Variable(0, trainable=False)\n",
    "learning_rate = tf.train.exponential_decay(lr, global_step, 10000, 0.96, staircase=True)\n",
    "optimizer = tf.train.GradientDescentOptimizer(learning_rate)\n",
    "training_step = optimizer.minimize(cost, global_step=global_step)\n",
    "\n",
    "\n",
    "#execution\n",
    "sess = tf.Session()\n",
    "init = tf.initialize_all_variables()\n",
    "sess.run(init)\n",
    "for i in range(1000):\n",
    "    sess.run(training_step)   \n"
   ]
  },
  {
   "cell_type": "code",
   "execution_count": 5,
   "metadata": {},
   "outputs": [
    {
     "name": "stdout",
     "output_type": "stream",
     "text": [
      "rating for user 196 for item 242 is 3 and our prediction is: 3.0619175\n"
     ]
    }
   ],
   "source": [
    "#testing\n",
    "u, p, r = df[['user', 'item', 'rate']].values[0]\n",
    "rhat = tf.gather(tf.gather(result, u-1), p-1)\n",
    "print (\"rating for user \" + str(u) + \" for item \" + str(p) + \n",
    "      \" is \" + str(r) + \" and our prediction is: \" + str(sess.run(rhat)))"
   ]
  },
  {
   "cell_type": "code",
   "execution_count": 6,
   "metadata": {},
   "outputs": [
    {
     "name": "stdout",
     "output_type": "stream",
     "text": [
      "0.6858636\n"
     ]
    }
   ],
   "source": [
    "#accuracy\n",
    "df_test = df[~msk]\n",
    "user_indecies_test = [x-1 for x in df_test.user.values]\n",
    "item_indecies_test = [x-1 for x in df_test.item.values]\n",
    "rates_test = df_test.rate.values\n",
    "R_test = tf.gather(result_flatten, user_indecies_test * tf.shape(result)[1] + item_indecies_test, name='extracting_user_rate_test')\n",
    "diff_op_test = tf.subtract(R_test, rates_test, name='test_diff')\n",
    "diff_op_squared_test = tf.abs(diff_op_test, name=\"squared_difference_test\")\n",
    "\n",
    "cost_test = tf.div(tf.reduce_sum(tf.square(diff_op_squared_test, name=\"squared_difference_test\"), name=\"sum_squared_error_test\"), df_test.shape[0] * 2, name=\"average_error\")\n",
    "print (sess.run(cost_test))"
   ]
  },
  {
   "cell_type": "code",
   "execution_count": null,
   "metadata": {},
   "outputs": [],
   "source": []
  }
 ],
 "metadata": {
  "kernelspec": {
   "display_name": "Python 3",
   "language": "python",
   "name": "python3"
  },
  "language_info": {
   "codemirror_mode": {
    "name": "ipython",
    "version": 3
   },
   "file_extension": ".py",
   "mimetype": "text/x-python",
   "name": "python",
   "nbconvert_exporter": "python",
   "pygments_lexer": "ipython3",
   "version": "3.6.3"
  }
 },
 "nbformat": 4,
 "nbformat_minor": 2
}
